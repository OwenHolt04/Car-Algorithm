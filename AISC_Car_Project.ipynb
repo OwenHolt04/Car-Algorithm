{
  "nbformat": 4,
  "nbformat_minor": 0,
  "metadata": {
    "colab": {
      "provenance": [],
      "authorship_tag": "ABX9TyMnSWObMqhD19pCEuf9BwFC",
      "include_colab_link": true
    },
    "kernelspec": {
      "name": "python3",
      "display_name": "Python 3"
    },
    "language_info": {
      "name": "python"
    }
  },
  "cells": [
    {
      "cell_type": "markdown",
      "metadata": {
        "id": "view-in-github",
        "colab_type": "text"
      },
      "source": [
        "<a href=\"https://colab.research.google.com/github/OwenHolt04/Car-Algorithm/blob/main/AISC_Car_Project.ipynb\" target=\"_parent\"><img src=\"https://colab.research.google.com/assets/colab-badge.svg\" alt=\"Open In Colab\"/></a>"
      ]
    },
    {
      "cell_type": "code",
      "execution_count": 1,
      "metadata": {
        "id": "T-2N6f-jsukh"
      },
      "outputs": [],
      "source": [
        "#Import Dependencies\n",
        "import numpy as np\n",
        "import pandas as pd # used to read csv data\n",
        "\n",
        "from sklearn.model_selection import train_test_split # easily split data for testing and training\n",
        "from sklearn.svm import SVC # SVC linear ML algorithm\n",
        "from sklearn.metrics import accuracy_score # test how good our algorithm is\n"
      ]
    },
    {
      "cell_type": "code",
      "source": [
        "# load dataset\n",
        "car_data = pd.read_csv(\"car_data.csv\")"
      ],
      "metadata": {
        "id": "HIPvFVp5t3-M"
      },
      "execution_count": 2,
      "outputs": []
    },
    {
      "cell_type": "code",
      "source": [
        "car_data.head()"
      ],
      "metadata": {
        "id": "CP1l6BO2u_U3"
      },
      "execution_count": null,
      "outputs": []
    },
    {
      "cell_type": "code",
      "source": [
        "car_data.shape # (rows, columns)"
      ],
      "metadata": {
        "colab": {
          "base_uri": "https://localhost:8080/"
        },
        "id": "HDKLrsRUvOo3",
        "outputId": "298b55d0-cbe7-4d86-c113-9e11f2117d72"
      },
      "execution_count": 4,
      "outputs": [
        {
          "output_type": "execute_result",
          "data": {
            "text/plain": [
              "(11914, 16)"
            ]
          },
          "metadata": {},
          "execution_count": 4
        }
      ]
    },
    {
      "cell_type": "code",
      "source": [
        "temp_X = car_data.dropna().drop(columns=[\"Make\", \"Model\", \"Market Category\", \"Engine Fuel Type\", \"Driven_Wheels\", \"Transmission Type\", \"Vehicle Style\", \"MSRP\"], axis = 1)\n",
        "\n",
        "temp_X['Vehicle Size'].replace(to_replace={\"Compact\":0, \"Midsize\":1, \"Large\":2}, inplace=True)\n"
      ],
      "metadata": {
        "id": "MAMA1t8H7iSR"
      },
      "execution_count": 5,
      "outputs": []
    },
    {
      "cell_type": "code",
      "source": [
        "Y = []\n",
        "X = []\n",
        "budget = 20000 # how much you are willing to spend on a car\n",
        "\n",
        "car_prices = car_data.dropna()[\"MSRP\"] # extract the price column from car data\n",
        "\n",
        "for i in range(len(car_prices)):\n",
        "  try:\n",
        "    test = car_prices[i]\n",
        "  except:\n",
        "    continue\n",
        "  Y.append(car_prices[i])\n",
        "  X.append(temp_X.iloc[i])\n"
      ],
      "metadata": {
        "id": "AKDrctFJ94-P"
      },
      "execution_count": 6,
      "outputs": []
    },
    {
      "cell_type": "code",
      "source": [
        "# We split data into training and testing data\n",
        "# training data will create model and testing data will tell us how good our training was\n",
        "X_train, X_test, Y_train, Y_test = train_test_split(X, Y, test_size = 0.2, random_state = 2)\n"
      ],
      "metadata": {
        "id": "RTycWr4c_VOt"
      },
      "execution_count": 7,
      "outputs": []
    },
    {
      "cell_type": "code",
      "source": [
        "# load model\n",
        "# we are using a support vector machine, with a linear hyperplane\n",
        "# used to segregate data into cars within our budget, and cars not in our budget\n",
        "model = SVC(kernel = \"linear\")\n"
      ],
      "metadata": {
        "id": "mgnJFmGNmFZ1"
      },
      "execution_count": 8,
      "outputs": []
    },
    {
      "cell_type": "code",
      "source": [
        "# training model with the svm model\n",
        "X_np = np.asarray(X_train)\n",
        "Y_np = np.asarray(Y_train)\n",
        "model.fit(X_np, Y_np)"
      ],
      "metadata": {
        "id": "iF93NNxonNk2"
      },
      "execution_count": null,
      "outputs": []
    },
    {
      "cell_type": "code",
      "source": [
        "X_train_prediction = model.predict(X_train)\n",
        "training_data_accuracy = accuracy_score(X_train_prediction, Y_train)\n",
        "print(\"Accuracy on training data: \", training_data_accuracy)"
      ],
      "metadata": {
        "id": "tJHnbZWN46At",
        "colab": {
          "base_uri": "https://localhost:8080/"
        },
        "outputId": "90c2a0f4-9dab-49e4-e182-04a4d818afb5"
      },
      "execution_count": 11,
      "outputs": [
        {
          "output_type": "stream",
          "name": "stdout",
          "text": [
            "Accuracy on training data:  0.9397163120567376\n"
          ]
        }
      ]
    },
    {
      "cell_type": "code",
      "source": [
        "# accuracy on test data\n",
        "X_test_prediction = model.predict(X_test)\n",
        "test_data_accuracy = accuracy_score(X_test_prediction, Y_test)\n",
        "print(\"Accuracy on training data: \", test_data_accuracy)"
      ],
      "metadata": {
        "colab": {
          "base_uri": "https://localhost:8080/"
        },
        "id": "jto0i10Dt6ak",
        "outputId": "1895db21-5573-4ccc-c053-f424045758c0"
      },
      "execution_count": 12,
      "outputs": [
        {
          "output_type": "stream",
          "name": "stdout",
          "text": [
            "Accuracy on training data:  0.017704062616474097\n"
          ]
        }
      ]
    },
    {
      "cell_type": "code",
      "source": [
        "#input_data = [year, Horsepower, engine cylinders, # of doors, Vehicle size, highway mpg, city mpg, popularity]\n",
        "input_data_affordable = [2011, 200, 4, 4, 1, 12, 15, 30]\n",
        "input_data_expensive = [2019, 250, 4, 4, 1, 20, 25, 300]\n",
        "budget = 30000"
      ],
      "metadata": {
        "id": "oJ4RhpGNx_Kg"
      },
      "execution_count": 19,
      "outputs": []
    },
    {
      "cell_type": "code",
      "source": [
        "#changing input data to a numpy array\n",
        "input_data_as_numpy_arr = np.asarray(input_data_affordable)\n",
        "#reshape the numpy array as we're predicting for one instance\n",
        "input_data_reshaped = input_data_as_numpy_arr.reshape(1,-1)\n",
        "\n",
        "prediction = model.predict(input_data_reshaped)\n",
        "print(prediction[0])\n",
        "if prediction > budget:\n",
        "  print(f\"This car is probably beyond your budget of {budget}\")\n",
        "else:\n",
        "  print(\"You can expect to buy this type of car given your budget\")"
      ],
      "metadata": {
        "id": "DDhfFSmy46WX",
        "colab": {
          "base_uri": "https://localhost:8080/"
        },
        "outputId": "6603eece-4007-46da-ca9d-0b33e4d00119"
      },
      "execution_count": 21,
      "outputs": [
        {
          "output_type": "stream",
          "name": "stdout",
          "text": [
            "40365\n",
            "This car is probably beyond your budget of 30000\n"
          ]
        }
      ]
    },
    {
      "cell_type": "code",
      "source": [
        "print(\"Describe your ideal car\\n\")\n",
        "year = input(\"What year car: \")\n",
        "horse_power = input(\"How much horsepower: \")\n",
        "engine_cylinders = input(\"How many engine cylinders: \")\n",
        "num_doors = input(\"Enter number of doors: \")\n",
        "car_size = input(\"What size vehicle (0 for compact, 1 for midsize, 2 for large): \")\n",
        "highway_mpg = input(\"How much mpg on the highway: \")\n",
        "city_mpg = input (\"How much mpg in city streets: \")\n",
        "popularity = input(\"What popularity level: \")\n",
        "\n",
        "input_data = [year, horse_power, engine_cylinders, num_doors, car_size, highway_mpg, city_mpg, popularity]\n"
      ],
      "metadata": {
        "id": "i1sc_HDB5914"
      },
      "execution_count": null,
      "outputs": []
    }
  ]
}